{
 "cells": [
  {
   "cell_type": "code",
   "execution_count": 123,
   "metadata": {},
   "outputs": [],
   "source": [
    "from pulp import *\n",
    "import pandas as pd"
   ]
  },
  {
   "cell_type": "code",
   "execution_count": 124,
   "metadata": {},
   "outputs": [
    {
     "name": "stdout",
     "output_type": "stream",
     "text": [
      "Status: Optimal\n",
      "Medicine_1_units = 3.0\n",
      "Medicine_2_units = 4.0\n",
      "Total Health that can be restored =  155.0\n"
     ]
    }
   ],
   "source": [
    "prob = LpProblem(\"The_Miracle_Worker\", LpMaximize)\n",
    "\n",
    "x = LpVariable(\"Medicine_1_units\", 0, None, LpInteger)\n",
    "y = LpVariable(\"Medicine_2_units\", 0, None, LpInteger)\n",
    "prob += 25*x + 20*y, \"Health restored; to be maximized\"\n",
    "prob += 3*x + 4*y <= 25, \"Herb A constraint\"\n",
    "prob += 2*x + y <= 10, \"Herb B constraint\"\n",
    "\n",
    "prob.writeLP(\"MiracleWorker.lp\")\n",
    "\n",
    "prob.solve()\n",
    "\n",
    "print(\"Status:\", LpStatus[prob.status])\n",
    "\n",
    "for v in prob.variables():\n",
    "    print(v.name, \"=\", v.varValue)\n",
    "    \n",
    "print(\"Total Health that can be restored = \", value(prob.objective))"
   ]
  },
  {
   "cell_type": "code",
   "execution_count": 125,
   "metadata": {},
   "outputs": [
    {
     "name": "stdout",
     "output_type": "stream",
     "text": [
      "Status: Optimal\n",
      "Toy_A = 88.0\n",
      "Toy_B = 20.0\n",
      "Total profit that can be made =  2600.0\n"
     ]
    }
   ],
   "source": [
    "#Toy problem\n",
    "prob = LpProblem(\"Maximise_the_profit\", LpMaximize)\n",
    "x = LpVariable(\"Toy_A\", 0, None, LpInteger)\n",
    "y = LpVariable(\"Toy_B\", 0, None, LpInteger)\n",
    "prob += 25*x + 20*y, \"Profit to be maximized\"\n",
    "prob += 20*x +12*y <= 2000, \"Total available units\"\n",
    "prob += 5*x + 5*y <= 540, \"Total available minutes\"\n",
    "\n",
    "prob.writeLP(\"Profit_Maximisation.lp\")\n",
    "prob.solve()\n",
    "print(\"Status:\", LpStatus[prob.status])\n",
    "\n",
    "for v in prob.variables():\n",
    "    print(v.name, \"=\", v.varValue)\n",
    "    \n",
    "print(\"Total profit that can be made = \", value(prob.objective))"
   ]
  },
  {
   "cell_type": "code",
   "execution_count": 126,
   "metadata": {},
   "outputs": [],
   "source": [
    "places = ['TE', 'ML', 'AT', 'MO', 'JT', 'CA', 'CP', 'CN', 'BS', 'SC', 'PC', 'TM', 'AC']\n",
    "sites = LpVariable.dicts(\"visit\", [place for place in places], cat='Binary')\n",
    "sites.values()\n",
    "price = [15.5, 12, 9.5, 11, 0, 10, 10, 5, 8, 8.5, 0, 15, 0]\n",
    "time = [4.5, 3, 1, 2, 1.5, 2, 2.5, 2, 2, 1.5, 3/4, 2, 3/2]\n",
    "appreciation = [5, 4, 3, 2, 3, 4, 1, 5, 4, 1, 3, 2, 5]\n",
    "dist = pd.read_csv(\"test_data/walking_data.csv\", header = None)\n",
    "#make the matrix bidirectional\n",
    "dist = dist + dist.T #make it bidirectional"
   ]
  },
  {
   "cell_type": "code",
   "execution_count": 127,
   "metadata": {},
   "outputs": [],
   "source": [
    "#ListVisit1\n",
    " \n",
    "def list_visit1(prob, disp=True):\n",
    "    prob += lpSum(sites.values())\n",
    "    prob += lpDot(sites.values(), price) <= 65\n",
    "    prob += lpDot(sites.values(), time) <= 12\n",
    "\n",
    "    prob.writeLP(\"ListVisit1.lp\")\n",
    "    prob.solve()\n",
    "    print(\"Status:\", LpStatus[prob.status])\n",
    "\n",
    "    result = []\n",
    "    for v in prob.variables():\n",
    "        if disp == True:\n",
    "            print(v.name, \"=\", v.varValue)\n",
    "        result.append(v.varValue)\n",
    "        \n",
    "    print(\"List Visit 1 optimum = \", value(prob.objective))\n",
    "    return result\n",
    "\n"
   ]
  },
  {
   "cell_type": "code",
   "execution_count": 128,
   "metadata": {},
   "outputs": [
    {
     "name": "stdout",
     "output_type": "stream",
     "text": [
      "Status: Optimal\n",
      "visit_AC = 1.0\n",
      "visit_AT = 1.0\n",
      "visit_BS = 1.0\n",
      "visit_CA = 1.0\n",
      "visit_CN = 1.0\n",
      "visit_CP = 0.0\n",
      "visit_JT = 0.0\n",
      "visit_ML = 0.0\n",
      "visit_MO = 0.0\n",
      "visit_PC = 1.0\n",
      "visit_SC = 1.0\n",
      "visit_TE = 0.0\n",
      "visit_TM = 0.0\n",
      "List Visit 1 optimum =  7.0\n"
     ]
    },
    {
     "data": {
      "text/plain": [
       "[1.0, 1.0, 1.0, 1.0, 1.0, 0.0, 0.0, 0.0, 0.0, 1.0, 1.0, 0.0, 0.0]"
      ]
     },
     "execution_count": 128,
     "metadata": {},
     "output_type": "execute_result"
    }
   ],
   "source": [
    "prob = LpProblem(\"Optimise visit to Paris\", LpMaximize)\n",
    "list_visit1(prob)"
   ]
  },
  {
   "cell_type": "code",
   "execution_count": 129,
   "metadata": {},
   "outputs": [],
   "source": [
    "#Preference 1: If two sites are geographically very close (within a radius of 1 km of walking), he will prefer to visit these\n",
    "#two sites instead of visiting only one.\n",
    "\n",
    "def set_pref1(prob, disp = True):  \n",
    "    site_variables = list(sites.values())\n",
    "    for row in range(dist.shape[0]):\n",
    "        for col in range(row, dist.shape[1]):\n",
    "            #print(dist.iloc[row][col], end=\" \")\n",
    "            if row != col and dist[row][col] <= 1:\n",
    "                #add constraint to equation\n",
    "                prob += site_variables[row] == site_variables[col]\n",
    "\n",
    "\n",
    "    prob.writeLP(\"Preference_1.lp\")\n",
    "    prob.solve()\n",
    "    print(\"Status:\", LpStatus[prob.status])\n",
    "\n",
    "    result = []\n",
    "    for v in prob.variables():\n",
    "        if disp:\n",
    "            print(v.name, \"=\", v.varValue)\n",
    "        result.append(v.varValue)\n",
    "        \n",
    "    print(\"Preference 1 optimum = \", value(prob.objective))\n",
    "    return result"
   ]
  },
  {
   "cell_type": "code",
   "execution_count": 130,
   "metadata": {},
   "outputs": [],
   "source": [
    "#Preference 2 : He absolutely wants to visit the Eiffel Tower (TE) and Catacombes (CA).\n",
    "def set_pref2(prob, disp=True):\n",
    "    prob += sites['TE'] == 1\n",
    "    prob += sites['CA'] == 1\n",
    "    prob.writeLP(\"List_Preference2.lp\")\n",
    "    prob.solve()\n",
    "    print(\"Status:\", LpStatus[prob.status])\n",
    "    \n",
    "    result = []\n",
    "    for v in prob.variables():\n",
    "        if disp:\n",
    "            print(v.name, \"=\", v.varValue)\n",
    "        result.append(v.varValue)\n",
    "\n",
    "    print(\"Preference 2 optimum = \", value(prob.objective))\n",
    "    return result"
   ]
  },
  {
   "cell_type": "code",
   "execution_count": 131,
   "metadata": {},
   "outputs": [],
   "source": [
    "#Preference 3 : If he visits Notre Dame Cathedral (CN) then he will not visit the Sainte Chapelle (SC).\n",
    "def set_pref3(prob, disp=True):\n",
    "    prob += sites['CN'] + sites['SC'] <= 1\n",
    "    prob.writeLP(\"List_Preference3.lp\")\n",
    "    prob.solve()\n",
    "    print(\"Status:\", LpStatus[prob.status])\n",
    "    \n",
    "    result = []\n",
    "    for v in prob.variables():\n",
    "        if disp:\n",
    "            print(v.name, \"=\", v.varValue)\n",
    "        result.append(v.varValue)\n",
    "\n",
    "    print(\"Preference 3 optimum = \", value(prob.objective))\n",
    "    return result"
   ]
  },
  {
   "cell_type": "code",
   "execution_count": 132,
   "metadata": {},
   "outputs": [],
   "source": [
    "#Preference 4 : He absolutely wants to visit Tour Montparnasse (TM).\n",
    "def set_pref4(prob, disp=True):\n",
    "    prob += sites['TM'] == 1\n",
    "    prob.writeLP(\"List_Preference4.lp\")\n",
    "    prob.solve()\n",
    "    print(\"Status:\", LpStatus[prob.status])\n",
    "    \n",
    "    result = []\n",
    "    for v in prob.variables():\n",
    "        if disp:\n",
    "            print(v.name, \"=\", v.varValue)\n",
    "        result.append(v.varValue)\n",
    "\n",
    "    print(\"Preference 4 optimum = \", value(prob.objective))\n",
    "    return result"
   ]
  },
  {
   "cell_type": "code",
   "execution_count": 133,
   "metadata": {},
   "outputs": [],
   "source": [
    "#Preference 5 : If he visits the Louvre (ML) Museum then he must visit the Pompidou Center (CP).\n",
    "def set_pref5(prob, disp=True):\n",
    "    prob += (sites['ML'] - sites['CP']) <= 0\n",
    "    prob.writeLP(\"List_Preference5.lp\")\n",
    "    prob.solve()\n",
    "    print(\"Status:\", LpStatus[prob.status])\n",
    "    \n",
    "    result = []\n",
    "    for v in prob.variables():\n",
    "        if disp:\n",
    "            print(v.name, \"=\", v.varValue)\n",
    "        result.append(v.varValue)\n",
    "\n",
    "    print(\"Preference 5 optimum = \", value(prob.objective))\n",
    "    return result"
   ]
  },
  {
   "cell_type": "code",
   "execution_count": 134,
   "metadata": {},
   "outputs": [],
   "source": [
    "def compare_lists(A, B):\n",
    "    for i in range(len(A)):\n",
    "        if A[i] != B[i]:\n",
    "            return False\n",
    "    \n",
    "    return True"
   ]
  },
  {
   "cell_type": "code",
   "execution_count": 135,
   "metadata": {},
   "outputs": [
    {
     "name": "stdout",
     "output_type": "stream",
     "text": [
      "------- Preference 1 -----\n",
      "Status: Optimal\n",
      "List Visit 1 optimum =  7.0\n",
      "Status: Optimal\n",
      "visit_AC = 1.0\n",
      "visit_AT = 1.0\n",
      "visit_BS = 0.0\n",
      "visit_CA = 1.0\n",
      "visit_CN = 0.0\n",
      "visit_CP = 0.0\n",
      "visit_JT = 1.0\n",
      "visit_ML = 0.0\n",
      "visit_MO = 1.0\n",
      "visit_PC = 1.0\n",
      "visit_SC = 0.0\n",
      "visit_TE = 0.0\n",
      "visit_TM = 1.0\n",
      "Preference 1 optimum =  7.0\n",
      "False\n"
     ]
    }
   ],
   "source": [
    "print(\"------- Preference 1 -----\")\n",
    "#set up\n",
    "prob = LpProblem(\"Optimise visit to Paris\", LpMaximize)\n",
    "# list_visit1\n",
    "result_list_visit1 = list_visit1(prob, False)\n",
    "result1 = set_pref1(prob)\n",
    "print(compare_lists(result_list_visit1, result1))"
   ]
  },
  {
   "cell_type": "code",
   "execution_count": 136,
   "metadata": {},
   "outputs": [
    {
     "name": "stdout",
     "output_type": "stream",
     "text": [
      "------- Preference 2 -----\n",
      "Status: Optimal\n",
      "List Visit 1 optimum =  7.0\n",
      "Status: Optimal\n",
      "visit_AC = 1.0\n",
      "visit_AT = 1.0\n",
      "visit_BS = 0.0\n",
      "visit_CA = 1.0\n",
      "visit_CN = 0.0\n",
      "visit_CP = 0.0\n",
      "visit_JT = 0.0\n",
      "visit_ML = 0.0\n",
      "visit_MO = 0.0\n",
      "visit_PC = 1.0\n",
      "visit_SC = 1.0\n",
      "visit_TE = 1.0\n",
      "visit_TM = 0.0\n",
      "Preference 2 optimum =  6.0\n",
      "False\n"
     ]
    }
   ],
   "source": [
    "print(\"------- Preference 2 -----\")\n",
    "#set up\n",
    "prob = LpProblem(\"Optimise visit to Paris\", LpMaximize)\n",
    "# list_visit1\n",
    "result_list_visit1 = list_visit1(prob, False)\n",
    "result2 = set_pref2(prob)\n",
    "print(compare_lists(result_list_visit1, result2))"
   ]
  },
  {
   "cell_type": "code",
   "execution_count": 137,
   "metadata": {},
   "outputs": [
    {
     "name": "stdout",
     "output_type": "stream",
     "text": [
      "Status: Optimal\n",
      "List Visit 1 optimum =  7.0\n",
      "------- Preference 3 -----\n",
      "Status: Optimal\n",
      "visit_AC = 1.0\n",
      "visit_AT = 1.0\n",
      "visit_BS = 1.0\n",
      "visit_CA = 1.0\n",
      "visit_CN = 0.0\n",
      "visit_CP = 0.0\n",
      "visit_JT = 0.0\n",
      "visit_ML = 0.0\n",
      "visit_MO = 1.0\n",
      "visit_PC = 1.0\n",
      "visit_SC = 1.0\n",
      "visit_TE = 0.0\n",
      "visit_TM = 0.0\n",
      "Preference 3 optimum =  7.0\n",
      "False\n"
     ]
    }
   ],
   "source": [
    "#set up\n",
    "prob = LpProblem(\"Optimise visit to Paris\", LpMaximize)\n",
    "# list_visit1\n",
    "result_list_visit1 = list_visit1(prob, False)\n",
    "print(\"------- Preference 3 -----\")\n",
    "result3 = set_pref3(prob)\n",
    "print(compare_lists(result_list_visit1, result3))"
   ]
  },
  {
   "cell_type": "code",
   "execution_count": 138,
   "metadata": {},
   "outputs": [
    {
     "name": "stdout",
     "output_type": "stream",
     "text": [
      "------- Preference 4 -----\n",
      "Status: Optimal\n",
      "List Visit 1 optimum =  7.0\n",
      "Status: Optimal\n",
      "visit_AC = 1.0\n",
      "visit_AT = 1.0\n",
      "visit_BS = 1.0\n",
      "visit_CA = 0.0\n",
      "visit_CN = 1.0\n",
      "visit_CP = 0.0\n",
      "visit_JT = 0.0\n",
      "visit_ML = 0.0\n",
      "visit_MO = 0.0\n",
      "visit_PC = 1.0\n",
      "visit_SC = 1.0\n",
      "visit_TE = 0.0\n",
      "visit_TM = 1.0\n",
      "Preference 4 optimum =  7.0\n",
      "False\n"
     ]
    }
   ],
   "source": [
    "print(\"------- Preference 4 -----\")\n",
    "#set up\n",
    "prob = LpProblem(\"Optimise visit to Paris\", LpMaximize)\n",
    "# list_visit1\n",
    "result_list_visit1 = list_visit1(prob, False)\n",
    "result4 = set_pref4(prob)\n",
    "print(compare_lists(result_list_visit1, result4))"
   ]
  },
  {
   "cell_type": "code",
   "execution_count": 139,
   "metadata": {},
   "outputs": [
    {
     "name": "stdout",
     "output_type": "stream",
     "text": [
      "------- Preference 5 -----\n",
      "Status: Optimal\n",
      "List Visit 1 optimum =  7.0\n",
      "Status: Optimal\n",
      "visit_AC = 1.0\n",
      "visit_AT = 1.0\n",
      "visit_BS = 1.0\n",
      "visit_CA = 1.0\n",
      "visit_CN = 1.0\n",
      "visit_CP = 0.0\n",
      "visit_JT = 0.0\n",
      "visit_ML = 0.0\n",
      "visit_MO = 0.0\n",
      "visit_PC = 1.0\n",
      "visit_SC = 1.0\n",
      "visit_TE = 0.0\n",
      "visit_TM = 0.0\n",
      "Preference 5 optimum =  7.0\n",
      "True\n"
     ]
    }
   ],
   "source": [
    "print(\"------- Preference 5 -----\")\n",
    "#set up\n",
    "prob = LpProblem(\"Optimise visit to Paris\", LpMaximize)\n",
    "# list_visit1\n",
    "result_list_visit1 = list_visit1(prob, False)\n",
    "result5 = set_pref5(prob)\n",
    "print(compare_lists(result_list_visit1, result5))"
   ]
  },
  {
   "cell_type": "code",
   "execution_count": 140,
   "metadata": {},
   "outputs": [
    {
     "name": "stdout",
     "output_type": "stream",
     "text": [
      "Status: Optimal\n",
      "List Visit 1 optimum =  7.0\n",
      "Status: Optimal\n",
      "Preference 1 optimum =  7.0\n",
      "Status: Optimal\n",
      "visit_AC = 1.0\n",
      "visit_AT = 1.0\n",
      "visit_BS = 0.0\n",
      "visit_CA = 1.0\n",
      "visit_CN = 0.0\n",
      "visit_CP = 0.0\n",
      "visit_JT = 0.0\n",
      "visit_ML = 0.0\n",
      "visit_MO = 0.0\n",
      "visit_PC = 0.0\n",
      "visit_SC = 0.0\n",
      "visit_TE = 1.0\n",
      "visit_TM = 1.0\n",
      "Preference 2 optimum =  5.0\n",
      "False\n"
     ]
    }
   ],
   "source": [
    "#If Mr. Doe wishes, at the same time, to take into account Preference 1 and Preference 2, which list(s) would you recommend\n",
    "#to him ?\n",
    "prob = LpProblem(\"Optimise visit to Paris\", LpMaximize)\n",
    "result_list_visit1 = list_visit1(prob, False)\n",
    "result1 = set_pref1(prob, False)\n",
    "result_1_2 = set_pref2(prob)\n",
    "print(compare_lists(result_list_visit1, result_1_2))"
   ]
  },
  {
   "cell_type": "code",
   "execution_count": 141,
   "metadata": {},
   "outputs": [
    {
     "name": "stdout",
     "output_type": "stream",
     "text": [
      "Status: Optimal\n",
      "List Visit 1 optimum =  7.0\n",
      "Status: Optimal\n",
      "Preference 1 optimum =  7.0\n",
      "Status: Optimal\n",
      "visit_AC = 1.0\n",
      "visit_AT = 1.0\n",
      "visit_BS = 0.0\n",
      "visit_CA = 1.0\n",
      "visit_CN = 0.0\n",
      "visit_CP = 0.0\n",
      "visit_JT = 1.0\n",
      "visit_ML = 0.0\n",
      "visit_MO = 1.0\n",
      "visit_PC = 1.0\n",
      "visit_SC = 0.0\n",
      "visit_TE = 0.0\n",
      "visit_TM = 1.0\n",
      "Preference 3 optimum =  7.0\n",
      "False\n"
     ]
    }
   ],
   "source": [
    "#If Mr. Doe wishes, at the same time, to take into account Preference 1 and Preference 3, which list(s) would you recommend\n",
    "#to him ?\n",
    "prob = LpProblem(\"Optimise visit to Paris\", LpMaximize)\n",
    "result_list_visit1 = list_visit1(prob, False)\n",
    "result1 = set_pref1(prob, False)\n",
    "result_1_3 = set_pref3(prob)\n",
    "print(compare_lists(result_list_visit1, result_1_3))"
   ]
  },
  {
   "cell_type": "code",
   "execution_count": 142,
   "metadata": {},
   "outputs": [
    {
     "name": "stdout",
     "output_type": "stream",
     "text": [
      "Status: Optimal\n",
      "List Visit 1 optimum =  7.0\n",
      "Status: Optimal\n",
      "Preference 1 optimum =  7.0\n",
      "Status: Optimal\n",
      "visit_AC = 1.0\n",
      "visit_AT = 1.0\n",
      "visit_BS = 0.0\n",
      "visit_CA = 1.0\n",
      "visit_CN = 0.0\n",
      "visit_CP = 0.0\n",
      "visit_JT = 1.0\n",
      "visit_ML = 0.0\n",
      "visit_MO = 1.0\n",
      "visit_PC = 1.0\n",
      "visit_SC = 0.0\n",
      "visit_TE = 0.0\n",
      "visit_TM = 1.0\n",
      "Preference 4 optimum =  7.0\n",
      "False\n"
     ]
    }
   ],
   "source": [
    "#If Mr. Doe wishes, at the same time, to take into account Preference 1 and Preference 4, which list(s) would you recommend\n",
    "#to him ?\n",
    "prob = LpProblem(\"Optimise visit to Paris\", LpMaximize)\n",
    "result_list_visit1 = list_visit1(prob, False)\n",
    "result1 = set_pref1(prob, False)\n",
    "result_1_4 = set_pref4(prob)\n",
    "print(compare_lists(result_list_visit1, result_1_4))"
   ]
  },
  {
   "cell_type": "code",
   "execution_count": 143,
   "metadata": {},
   "outputs": [
    {
     "name": "stdout",
     "output_type": "stream",
     "text": [
      "Status: Optimal\n",
      "List Visit 1 optimum =  7.0\n",
      "Status: Optimal\n",
      "Preference 2 optimum =  6.0\n",
      "Status: Optimal\n",
      "visit_AC = 1.0\n",
      "visit_AT = 1.0\n",
      "visit_BS = 0.0\n",
      "visit_CA = 1.0\n",
      "visit_CN = 0.0\n",
      "visit_CP = 0.0\n",
      "visit_JT = 0.0\n",
      "visit_ML = 0.0\n",
      "visit_MO = 0.0\n",
      "visit_PC = 1.0\n",
      "visit_SC = 1.0\n",
      "visit_TE = 1.0\n",
      "visit_TM = 0.0\n",
      "Preference 5 optimum =  6.0\n",
      "False\n"
     ]
    }
   ],
   "source": [
    "#If Mr. Doe wishes, at the same time, to take into account Preference 2 and Preference 5, which list(s) would you recommend\n",
    "#to him ?\n",
    "prob = LpProblem(\"Optimise visit to Paris\", LpMaximize)\n",
    "result_list_visit1 = list_visit1(prob, False)\n",
    "result2 = set_pref2(prob, False)\n",
    "result_2_5 = set_pref5(prob)\n",
    "print(compare_lists(result_list_visit1, result_2_5))"
   ]
  },
  {
   "cell_type": "code",
   "execution_count": 144,
   "metadata": {},
   "outputs": [
    {
     "name": "stdout",
     "output_type": "stream",
     "text": [
      "Status: Optimal\n",
      "List Visit 1 optimum =  7.0\n",
      "Status: Optimal\n",
      "Preference 3 optimum =  7.0\n",
      "Status: Optimal\n",
      "visit_AC = 1.0\n",
      "visit_AT = 1.0\n",
      "visit_BS = 1.0\n",
      "visit_CA = 1.0\n",
      "visit_CN = 0.0\n",
      "visit_CP = 0.0\n",
      "visit_JT = 0.0\n",
      "visit_ML = 0.0\n",
      "visit_MO = 0.0\n",
      "visit_PC = 1.0\n",
      "visit_SC = 1.0\n",
      "visit_TE = 0.0\n",
      "visit_TM = 1.0\n",
      "Preference 4 optimum =  7.0\n",
      "False\n"
     ]
    }
   ],
   "source": [
    "#If Mr. Doe wishes, at the same time, to take into account Preference 3 and Preference 4, which list(s) would you recommend\n",
    "#to him ?\n",
    "prob = LpProblem(\"Optimise visit to Paris\", LpMaximize)\n",
    "result_list_visit1 = list_visit1(prob, False)\n",
    "result3 = set_pref3(prob, False)\n",
    "result_3_4 = set_pref4(prob)\n",
    "print(compare_lists(result_list_visit1, result_3_4))"
   ]
  },
  {
   "cell_type": "code",
   "execution_count": 145,
   "metadata": {},
   "outputs": [
    {
     "name": "stdout",
     "output_type": "stream",
     "text": [
      "Status: Optimal\n",
      "List Visit 1 optimum =  7.0\n",
      "Status: Optimal\n",
      "Preference 4 optimum =  7.0\n",
      "Status: Optimal\n",
      "visit_AC = 1.0\n",
      "visit_AT = 1.0\n",
      "visit_BS = 1.0\n",
      "visit_CA = 0.0\n",
      "visit_CN = 1.0\n",
      "visit_CP = 0.0\n",
      "visit_JT = 0.0\n",
      "visit_ML = 0.0\n",
      "visit_MO = 0.0\n",
      "visit_PC = 1.0\n",
      "visit_SC = 1.0\n",
      "visit_TE = 0.0\n",
      "visit_TM = 1.0\n",
      "Preference 5 optimum =  7.0\n",
      "False\n"
     ]
    }
   ],
   "source": [
    "#If Mr. Doe wishes, at the same time, to take into account Preference 4 and Preference 5, which list(s) would you recommend\n",
    "#to him ?\n",
    "prob = LpProblem(\"Optimise visit to Paris\", LpMaximize)\n",
    "result_list_visit1 = list_visit1(prob, False)\n",
    "result4 = set_pref4(prob, False)\n",
    "result_4_5 = set_pref5(prob)\n",
    "print(compare_lists(result_list_visit1, result_4_5))"
   ]
  },
  {
   "cell_type": "code",
   "execution_count": 146,
   "metadata": {},
   "outputs": [
    {
     "name": "stdout",
     "output_type": "stream",
     "text": [
      "Status: Optimal\n",
      "List Visit 1 optimum =  7.0\n",
      "Status: Optimal\n",
      "Preference 1 optimum =  7.0\n",
      "Status: Optimal\n",
      "Preference 2 optimum =  5.0\n",
      "Status: Optimal\n",
      "visit_AC = 1.0\n",
      "visit_AT = 1.0\n",
      "visit_BS = 0.0\n",
      "visit_CA = 1.0\n",
      "visit_CN = 0.0\n",
      "visit_CP = 0.0\n",
      "visit_JT = 0.0\n",
      "visit_ML = 0.0\n",
      "visit_MO = 0.0\n",
      "visit_PC = 0.0\n",
      "visit_SC = 0.0\n",
      "visit_TE = 1.0\n",
      "visit_TM = 1.0\n",
      "Preference 4 optimum =  5.0\n",
      "False\n"
     ]
    }
   ],
   "source": [
    "#If Mr. Doe wishes, at the same time, to take into account Preference 1, Preference 2 and Preference 4, which list(s) would\n",
    "#you recommend to him ?\n",
    "prob = LpProblem(\"Optimise visit to Paris\", LpMaximize)\n",
    "result_list_visit1 = list_visit1(prob, False)\n",
    "result1 = set_pref1(prob, False)\n",
    "result_1_2 = set_pref2(prob, False)\n",
    "result_1_2_4 = set_pref4(prob)\n",
    "print(compare_lists(result_list_visit1, result_1_2_4))"
   ]
  },
  {
   "cell_type": "code",
   "execution_count": 147,
   "metadata": {},
   "outputs": [
    {
     "name": "stdout",
     "output_type": "stream",
     "text": [
      "Status: Optimal\n",
      "List Visit 1 optimum =  7.0\n",
      "Status: Optimal\n",
      "Preference 2 optimum =  6.0\n",
      "Status: Optimal\n",
      "Preference 3 optimum =  6.0\n",
      "Status: Optimal\n",
      "visit_AC = 1.0\n",
      "visit_AT = 1.0\n",
      "visit_BS = 0.0\n",
      "visit_CA = 1.0\n",
      "visit_CN = 0.0\n",
      "visit_CP = 0.0\n",
      "visit_JT = 1.0\n",
      "visit_ML = 0.0\n",
      "visit_MO = 0.0\n",
      "visit_PC = 1.0\n",
      "visit_SC = 0.0\n",
      "visit_TE = 1.0\n",
      "visit_TM = 0.0\n",
      "Preference 5 optimum =  6.0\n",
      "False\n"
     ]
    }
   ],
   "source": [
    "#If Mr. Doe wishes, at the same time, to take into account Preference 2, Preference 3 and Preference 5, which list(s) would\n",
    "#you recommend to him ?\n",
    "prob = LpProblem(\"Optimise visit to Paris\", LpMaximize)\n",
    "result_list_visit1 = list_visit1(prob, False)\n",
    "result2 = set_pref2(prob, False)\n",
    "result_2_3 = set_pref3(prob, False)\n",
    "result_2_3_5 = set_pref5(prob)\n",
    "print(compare_lists(result_list_visit1, result_2_3_5))"
   ]
  },
  {
   "cell_type": "code",
   "execution_count": 148,
   "metadata": {},
   "outputs": [
    {
     "name": "stdout",
     "output_type": "stream",
     "text": [
      "Status: Optimal\n",
      "List Visit 1 optimum =  7.0\n",
      "Status: Optimal\n",
      "Preference 2 optimum =  6.0\n",
      "Status: Optimal\n",
      "Preference 3 optimum =  6.0\n",
      "Status: Optimal\n",
      "Preference 4 optimum =  6.0\n",
      "Status: Optimal\n",
      "visit_AC = 1.0\n",
      "visit_AT = 1.0\n",
      "visit_BS = 0.0\n",
      "visit_CA = 1.0\n",
      "visit_CN = 0.0\n",
      "visit_CP = 0.0\n",
      "visit_JT = 0.0\n",
      "visit_ML = 0.0\n",
      "visit_MO = 0.0\n",
      "visit_PC = 1.0\n",
      "visit_SC = 0.0\n",
      "visit_TE = 1.0\n",
      "visit_TM = 1.0\n",
      "Preference 5 optimum =  6.0\n",
      "False\n"
     ]
    }
   ],
   "source": [
    "#If Mr. Doe wishes, at the same time, to take into account Preference 2, Preference 3, Preference 4 and Preference 5, which\n",
    "#list(s) would you recommend to him ?\n",
    "prob = LpProblem(\"Optimise visit to Paris\", LpMaximize)\n",
    "result_list_visit1 = list_visit1(prob, False)\n",
    "result2 = set_pref2(prob, False)\n",
    "result_2_3 = set_pref3(prob, False)\n",
    "result_2_3_4 = set_pref4(prob, False)\n",
    "result_2_3_4_5 = set_pref5(prob)\n",
    "print(compare_lists(result_list_visit1, result_2_3_4_5))"
   ]
  },
  {
   "cell_type": "code",
   "execution_count": 149,
   "metadata": {},
   "outputs": [
    {
     "name": "stdout",
     "output_type": "stream",
     "text": [
      "Status: Optimal\n",
      "List Visit 1 optimum =  7.0\n",
      "Status: Optimal\n",
      "Preference 1 optimum =  7.0\n",
      "Status: Optimal\n",
      "Preference 2 optimum =  5.0\n",
      "Status: Optimal\n",
      "Preference 4 optimum =  5.0\n",
      "Status: Optimal\n",
      "visit_AC = 1.0\n",
      "visit_AT = 1.0\n",
      "visit_BS = 0.0\n",
      "visit_CA = 1.0\n",
      "visit_CN = 0.0\n",
      "visit_CP = 0.0\n",
      "visit_JT = 0.0\n",
      "visit_ML = 0.0\n",
      "visit_MO = 0.0\n",
      "visit_PC = 0.0\n",
      "visit_SC = 0.0\n",
      "visit_TE = 1.0\n",
      "visit_TM = 1.0\n",
      "Preference 5 optimum =  5.0\n",
      "False\n"
     ]
    }
   ],
   "source": [
    "#If Mr. Doe wishes, at the same time, to take into account Preference 1, Preference 2, Preference 4 and Preference 5, which\n",
    "#list(s) would you recommend to him ?\n",
    "prob = LpProblem(\"Optimise visit to Paris\", LpMaximize)\n",
    "result_list_visit1 = list_visit1(prob, False)\n",
    "result1 = set_pref1(prob, False)\n",
    "result_1_2 = set_pref2(prob, False)\n",
    "result_1_2_4 = set_pref4(prob, False)\n",
    "result_1_2_4_5 = set_pref5(prob)\n",
    "print(compare_lists(result_list_visit1, result_1_2_4_5))"
   ]
  },
  {
   "cell_type": "code",
   "execution_count": 150,
   "metadata": {},
   "outputs": [
    {
     "name": "stdout",
     "output_type": "stream",
     "text": [
      "Status: Optimal\n",
      "List Visit 1 optimum =  7.0\n",
      "Status: Optimal\n",
      "Preference 1 optimum =  7.0\n",
      "Status: Optimal\n",
      "Preference 2 optimum =  5.0\n",
      "Status: Optimal\n",
      "Preference 3 optimum =  5.0\n",
      "Status: Optimal\n",
      "Preference 4 optimum =  5.0\n",
      "Status: Optimal\n",
      "visit_AC = 1.0\n",
      "visit_AT = 1.0\n",
      "visit_BS = 0.0\n",
      "visit_CA = 1.0\n",
      "visit_CN = 0.0\n",
      "visit_CP = 0.0\n",
      "visit_JT = 0.0\n",
      "visit_ML = 0.0\n",
      "visit_MO = 0.0\n",
      "visit_PC = 0.0\n",
      "visit_SC = 0.0\n",
      "visit_TE = 1.0\n",
      "visit_TM = 1.0\n",
      "Preference 5 optimum =  5.0\n",
      "False\n"
     ]
    }
   ],
   "source": [
    "#If Mr. Doe wishes, at the same time, to take into account Preference 1, Preference 2, Preference 3, Preference 4 and\n",
    "#Preference 5, which list(s) would you recommend to him ?\n",
    "prob = LpProblem(\"Optimise visit to Paris\", LpMaximize)\n",
    "result_list_visit1 = list_visit1(prob, False)\n",
    "result1 = set_pref1(prob, False)\n",
    "result_1_2 = set_pref2(prob, False)\n",
    "result_1_2_3 = set_pref3(prob, False)\n",
    "result_1_2_3_4 = set_pref4(prob, False)\n",
    "result_1_2_3_4_5 = set_pref5(prob)\n",
    "print(compare_lists(result_list_visit1, result_1_2_3_4_5))"
   ]
  },
  {
   "cell_type": "code",
   "execution_count": 151,
   "metadata": {},
   "outputs": [
    {
     "name": "stdout",
     "output_type": "stream",
     "text": [
      "All the solutions with the above preferences are different to ListVisit1\n"
     ]
    }
   ],
   "source": [
    "#Is the solution ListVisit1 different to these solutions founded above (with the combination of preferences) ?\n",
    "print(\"All the solutions with the above preferences are different to ListVisit1\")"
   ]
  },
  {
   "cell_type": "code",
   "execution_count": 152,
   "metadata": {},
   "outputs": [
    {
     "name": "stdout",
     "output_type": "stream",
     "text": [
      "Kendall Correlation for (price, time):  0.6055872907648961\n",
      "Kendall Correlation for (price, ratings):  -0.08521145659838941\n",
      "Kendall Correlation for (ratings, time):  0.1515325460564539\n"
     ]
    }
   ],
   "source": [
    "#Find rankings\n",
    "\n",
    "import scipy.stats as stats\n",
    "tau, p_value = stats.kendalltau(price, time)\n",
    "print(\"Kendall Correlation for (price, time): \", tau)\n",
    "tau, p_value = stats.kendalltau(price, appreciation)\n",
    "print(\"Kendall Correlation for (price, ratings): \", tau)\n",
    "tau, p_value = stats.kendalltau(appreciation, time)\n",
    "print(\"Kendall Correlation for (ratings, time): \", tau)"
   ]
  },
  {
   "cell_type": "code",
   "execution_count": 153,
   "metadata": {},
   "outputs": [
    {
     "name": "stdout",
     "output_type": "stream",
     "text": [
      "Spearman Correlation for (price, time):  0.7413325704498833\n",
      "Spearman Correlation for (price, ratings):  -0.13400233411084597\n",
      "Spearman Correlation for (ratings, time):  0.2058187176566192\n"
     ]
    }
   ],
   "source": [
    "rho, pval = stats.spearmanr(price, time)\n",
    "print(\"Spearman Correlation for (price, time): \", rho)\n",
    "rho, pval = stats.spearmanr(price, appreciation)\n",
    "print(\"Spearman Correlation for (price, ratings): \", rho)\n",
    "rho, pval = stats.spearmanr(appreciation, time)\n",
    "print(\"Spearman Correlation for (ratings, time): \", rho)"
   ]
  },
  {
   "cell_type": "code",
   "execution_count": 154,
   "metadata": {},
   "outputs": [
    {
     "name": "stdout",
     "output_type": "stream",
     "text": [
      "Time and Price have some significant correlation, or statistical dependence but other quantities seem independent\n"
     ]
    }
   ],
   "source": [
    "print(\"Time and Price have some significant correlation, or statistical dependence but other quantities seem independent\")"
   ]
  }
 ],
 "metadata": {
  "kernelspec": {
   "display_name": "Python 3",
   "language": "python",
   "name": "python3"
  },
  "language_info": {
   "codemirror_mode": {
    "name": "ipython",
    "version": 3
   },
   "file_extension": ".py",
   "mimetype": "text/x-python",
   "name": "python",
   "nbconvert_exporter": "python",
   "pygments_lexer": "ipython3",
   "version": "3.7.5"
  }
 },
 "nbformat": 4,
 "nbformat_minor": 2
}
