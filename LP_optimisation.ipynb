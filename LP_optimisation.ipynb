{
 "cells": [
  {
   "cell_type": "code",
   "execution_count": null,
   "metadata": {},
   "outputs": [],
   "source": [
    "from pulp import *\n",
    "import pandas as pd"
   ]
  },
  {
   "cell_type": "code",
   "execution_count": null,
   "metadata": {},
   "outputs": [],
   "source": [
    "prob = LpProblem(\"The_Miracle_Worker\", LpMaximize)\n",
    "\n",
    "x = LpVariable(\"Medicine_1_units\", 0, None, LpInteger)\n",
    "y = LpVariable(\"Medicine_2_units\", 0, None, LpInteger)\n",
    "prob += 25*x + 20*y, \"Health restored; to be maximized\"\n",
    "prob += 3*x + 4*y <= 25, \"Herb A constraint\"\n",
    "prob += 2*x + y <= 10, \"Herb B constraint\"\n",
    "\n",
    "prob.writeLP(\"MiracleWorker.lp\")\n",
    "\n",
    "prob.solve()\n",
    "\n",
    "print(\"Status:\", LpStatus[prob.status])\n",
    "\n",
    "for v in prob.variables():\n",
    "    print(v.name, \"=\", v.varValue)\n",
    "    \n",
    "print(\"Total Health that can be restored = \", value(prob.objective))"
   ]
  },
  {
   "cell_type": "code",
   "execution_count": null,
   "metadata": {},
   "outputs": [],
   "source": [
    "#Toy problem\n",
    "prob = LpProblem(\"Maximise_the_profit\", LpMaximize)\n",
    "x = LpVariable(\"Toy_A\", 0, None, LpInteger)\n",
    "y = LpVariable(\"Toy_B\", 0, None, LpInteger)\n",
    "prob += 25*x + 20*y, \"Profit to be maximized\"\n",
    "prob += 20*x +12*y <= 2000, \"Total available units\"\n",
    "prob += 5*x + 5*y <= 540, \"Total available minutes\"\n",
    "\n",
    "prob.writeLP(\"Profit_Maximisation.lp\")\n",
    "prob.solve()\n",
    "print(\"Status:\", LpStatus[prob.status])\n",
    "\n",
    "for v in prob.variables():\n",
    "    print(v.name, \"=\", v.varValue)\n",
    "    \n",
    "print(\"Total profit that can be made = \", value(prob.objective))"
   ]
  },
  {
   "cell_type": "code",
   "execution_count": null,
   "metadata": {},
   "outputs": [],
   "source": [
    "places = ['TE', 'ML', 'AT', 'MO', 'JT', 'CA', 'CP', 'CN', 'BS', 'SC', 'PC', 'TM', 'AC']\n",
    "sites = LpVariable.dicts(\"visit\", [place for place in places], cat='Binary')\n",
    "sites.values()\n",
    "price = [15.5, 12, 9.5, 11, 0, 10, 10, 5, 8, 8.5, 0, 15, 0]\n",
    "time = [4.5, 3, 1, 2, 1.5, 2, 2.5, 2, 2, 1.5, 3/4, 2, 3/2]\n",
    "appreciation = [5, 4, 3, 2, 3, 4, 1, 5, 4, 1, 3, 2, 5]\n",
    "dist = pd.read_csv(\"test_data/walking_data.csv\", header = None)\n",
    "#make the matrix bidirectional\n",
    "dist = dist + dist.T #make it bidirectional"
   ]
  },
  {
   "cell_type": "code",
   "execution_count": null,
   "metadata": {},
   "outputs": [],
   "source": [
    "#ListVisit1\n",
    " \n",
    "def list_visit1(prob, disp=True):\n",
    "    prob += lpSum(sites.values())\n",
    "    prob += lpDot(sites.values(), price) <= 65\n",
    "    prob += lpDot(sites.values(), time) <= 12\n",
    "\n",
    "    prob.writeLP(\"ListVisit1.lp\")\n",
    "    prob.solve()\n",
    "    print(\"Status:\", LpStatus[prob.status])\n",
    "\n",
    "    result = []\n",
    "    for v in prob.variables():\n",
    "        if disp == True:\n",
    "            print(v.name, \"=\", v.varValue)\n",
    "        result.append(v.varValue)\n",
    "        \n",
    "    print(\"List Visit 1 optimum = \", value(prob.objective))\n",
    "    return result\n",
    "\n"
   ]
  },
  {
   "cell_type": "code",
   "execution_count": null,
   "metadata": {},
   "outputs": [],
   "source": [
    "prob = LpProblem(\"Optimise visit to Paris\", LpMaximize)\n",
    "list_visit1(prob)"
   ]
  },
  {
   "cell_type": "code",
   "execution_count": null,
   "metadata": {},
   "outputs": [],
   "source": [
    "#Preference 1: If two sites are geographically very close (within a radius of 1 km of walking), he will prefer to visit these\n",
    "#two sites instead of visiting only one.\n",
    "\n",
    "def set_pref1(prob, disp = True):  \n",
    "    site_variables = list(sites.values())\n",
    "    for row in range(dist.shape[0]):\n",
    "        for col in range(row, dist.shape[1]):\n",
    "            #print(dist.iloc[row][col], end=\" \")\n",
    "            if row != col and dist[row][col] <= 1:\n",
    "                #add constraint to equation\n",
    "                prob += site_variables[row] == site_variables[col]\n",
    "\n",
    "\n",
    "    prob.writeLP(\"Preference_1.lp\")\n",
    "    prob.solve()\n",
    "    print(\"Status:\", LpStatus[prob.status])\n",
    "\n",
    "    result = []\n",
    "    for v in prob.variables():\n",
    "        if disp:\n",
    "            print(v.name, \"=\", v.varValue)\n",
    "        result.append(v.varValue)\n",
    "        \n",
    "    print(\"Preference 1 optimum = \", value(prob.objective))\n",
    "    return result"
   ]
  },
  {
   "cell_type": "code",
   "execution_count": null,
   "metadata": {},
   "outputs": [],
   "source": [
    "#Preference 2 : He absolutely wants to visit the Eiffel Tower (TE) and Catacombes (CA).\n",
    "def set_pref2(prob, disp=True):\n",
    "    prob += sites['TE'] == 1\n",
    "    prob += sites['CA'] == 1\n",
    "    prob.writeLP(\"List_Preference2.lp\")\n",
    "    prob.solve()\n",
    "    print(\"Status:\", LpStatus[prob.status])\n",
    "    \n",
    "    result = []\n",
    "    for v in prob.variables():\n",
    "        if disp:\n",
    "            print(v.name, \"=\", v.varValue)\n",
    "        result.append(v.varValue)\n",
    "\n",
    "    print(\"Preference 2 optimum = \", value(prob.objective))\n",
    "    return result"
   ]
  },
  {
   "cell_type": "code",
   "execution_count": null,
   "metadata": {},
   "outputs": [],
   "source": [
    "#Preference 3 : If he visits Notre Dame Cathedral (CN) then he will not visit the Sainte Chapelle (SC).\n",
    "def set_pref3(prob, disp=True):\n",
    "    prob += sites['CN'] + sites['SC'] <= 1\n",
    "    prob.writeLP(\"List_Preference3.lp\")\n",
    "    prob.solve()\n",
    "    print(\"Status:\", LpStatus[prob.status])\n",
    "    \n",
    "    result = []\n",
    "    for v in prob.variables():\n",
    "        if disp:\n",
    "            print(v.name, \"=\", v.varValue)\n",
    "        result.append(v.varValue)\n",
    "\n",
    "    print(\"Preference 3 optimum = \", value(prob.objective))\n",
    "    return result"
   ]
  },
  {
   "cell_type": "code",
   "execution_count": null,
   "metadata": {},
   "outputs": [],
   "source": [
    "#Preference 4 : He absolutely wants to visit Tour Montparnasse (TM).\n",
    "def set_pref4(prob, disp=True):\n",
    "    prob += sites['TM'] == 1\n",
    "    prob.writeLP(\"List_Preference4.lp\")\n",
    "    prob.solve()\n",
    "    print(\"Status:\", LpStatus[prob.status])\n",
    "    \n",
    "    result = []\n",
    "    for v in prob.variables():\n",
    "        if disp:\n",
    "            print(v.name, \"=\", v.varValue)\n",
    "        result.append(v.varValue)\n",
    "\n",
    "    print(\"Preference 4 optimum = \", value(prob.objective))\n",
    "    return result"
   ]
  },
  {
   "cell_type": "code",
   "execution_count": null,
   "metadata": {},
   "outputs": [],
   "source": [
    "#Preference 5 : If he visits the Louvre (ML) Museum then he must visit the Pompidou Center (CP).\n",
    "def set_pref5(prob, disp=True):\n",
    "    prob += (sites['ML'] - sites['CP']) <= 0\n",
    "    prob.writeLP(\"List_Preference5.lp\")\n",
    "    prob.solve()\n",
    "    print(\"Status:\", LpStatus[prob.status])\n",
    "    \n",
    "    result = []\n",
    "    for v in prob.variables():\n",
    "        if disp:\n",
    "            print(v.name, \"=\", v.varValue)\n",
    "        result.append(v.varValue)\n",
    "\n",
    "    print(\"Preference 5 optimum = \", value(prob.objective))\n",
    "    return result"
   ]
  },
  {
   "cell_type": "code",
   "execution_count": null,
   "metadata": {},
   "outputs": [],
   "source": [
    "def compare_lists(A, B):\n",
    "    for i in range(len(A)):\n",
    "        if A[i] != B[i]:\n",
    "            return False\n",
    "    \n",
    "    return True"
   ]
  },
  {
   "cell_type": "code",
   "execution_count": null,
   "metadata": {},
   "outputs": [],
   "source": [
    "print(\"------- Preference 1 -----\")\n",
    "#set up\n",
    "prob = LpProblem(\"Optimise visit to Paris\", LpMaximize)\n",
    "# list_visit1\n",
    "result_list_visit1 = list_visit1(prob, False)\n",
    "result1 = set_pref1(prob)\n",
    "print(compare_lists(result_list_visit1, result1))"
   ]
  },
  {
   "cell_type": "code",
   "execution_count": null,
   "metadata": {},
   "outputs": [],
   "source": [
    "print(\"------- Preference 2 -----\")\n",
    "#set up\n",
    "prob = LpProblem(\"Optimise visit to Paris\", LpMaximize)\n",
    "# list_visit1\n",
    "result_list_visit1 = list_visit1(prob, False)\n",
    "result2 = set_pref2(prob)\n",
    "print(compare_lists(result_list_visit1, result2))"
   ]
  },
  {
   "cell_type": "code",
   "execution_count": null,
   "metadata": {},
   "outputs": [],
   "source": [
    "#set up\n",
    "prob = LpProblem(\"Optimise visit to Paris\", LpMaximize)\n",
    "# list_visit1\n",
    "result_list_visit1 = list_visit1(prob, False)\n",
    "print(\"------- Preference 3 -----\")\n",
    "result3 = set_pref3(prob)\n",
    "print(compare_lists(result_list_visit1, result3))"
   ]
  },
  {
   "cell_type": "code",
   "execution_count": null,
   "metadata": {},
   "outputs": [],
   "source": [
    "print(\"------- Preference 4 -----\")\n",
    "#set up\n",
    "prob = LpProblem(\"Optimise visit to Paris\", LpMaximize)\n",
    "# list_visit1\n",
    "result_list_visit1 = list_visit1(prob, False)\n",
    "result4 = set_pref4(prob)\n",
    "print(compare_lists(result_list_visit1, result4))"
   ]
  },
  {
   "cell_type": "code",
   "execution_count": null,
   "metadata": {},
   "outputs": [],
   "source": [
    "print(\"------- Preference 5 -----\")\n",
    "#set up\n",
    "prob = LpProblem(\"Optimise visit to Paris\", LpMaximize)\n",
    "# list_visit1\n",
    "result_list_visit1 = list_visit1(prob, False)\n",
    "result5 = set_pref5(prob)\n",
    "print(compare_lists(result_list_visit1, result5))"
   ]
  },
  {
   "cell_type": "code",
   "execution_count": null,
   "metadata": {},
   "outputs": [],
   "source": [
    "#If Mr. Doe wishes, at the same time, to take into account Preference 1 and Preference 2, which list(s) would you recommend\n",
    "#to him ?\n",
    "prob = LpProblem(\"Optimise visit to Paris\", LpMaximize)\n",
    "result_list_visit1 = list_visit1(prob, False)\n",
    "result1 = set_pref1(prob, False)\n",
    "result_1_2 = set_pref2(prob)\n",
    "print(compare_lists(result_list_visit1, result_1_2))"
   ]
  },
  {
   "cell_type": "code",
   "execution_count": null,
   "metadata": {},
   "outputs": [],
   "source": [
    "#If Mr. Doe wishes, at the same time, to take into account Preference 1 and Preference 3, which list(s) would you recommend\n",
    "#to him ?\n",
    "prob = LpProblem(\"Optimise visit to Paris\", LpMaximize)\n",
    "result_list_visit1 = list_visit1(prob, False)\n",
    "result1 = set_pref1(prob, False)\n",
    "result_1_3 = set_pref3(prob)\n",
    "print(compare_lists(result_list_visit1, result_1_3))"
   ]
  },
  {
   "cell_type": "code",
   "execution_count": null,
   "metadata": {},
   "outputs": [],
   "source": [
    "#If Mr. Doe wishes, at the same time, to take into account Preference 1 and Preference 4, which list(s) would you recommend\n",
    "#to him ?\n",
    "prob = LpProblem(\"Optimise visit to Paris\", LpMaximize)\n",
    "result_list_visit1 = list_visit1(prob, False)\n",
    "result1 = set_pref1(prob, False)\n",
    "result_1_4 = set_pref4(prob)\n",
    "print(compare_lists(result_list_visit1, result_1_4))"
   ]
  },
  {
   "cell_type": "code",
   "execution_count": null,
   "metadata": {},
   "outputs": [],
   "source": [
    "#If Mr. Doe wishes, at the same time, to take into account Preference 2 and Preference 5, which list(s) would you recommend\n",
    "#to him ?\n",
    "prob = LpProblem(\"Optimise visit to Paris\", LpMaximize)\n",
    "result_list_visit1 = list_visit1(prob, False)\n",
    "result2 = set_pref2(prob, False)\n",
    "result_2_5 = set_pref5(prob)\n",
    "print(compare_lists(result_list_visit1, result_2_5))"
   ]
  },
  {
   "cell_type": "code",
   "execution_count": null,
   "metadata": {},
   "outputs": [],
   "source": [
    "#If Mr. Doe wishes, at the same time, to take into account Preference 3 and Preference 4, which list(s) would you recommend\n",
    "#to him ?\n",
    "prob = LpProblem(\"Optimise visit to Paris\", LpMaximize)\n",
    "result_list_visit1 = list_visit1(prob, False)\n",
    "result3 = set_pref3(prob, False)\n",
    "result_3_4 = set_pref4(prob)\n",
    "print(compare_lists(result_list_visit1, result_3_4))"
   ]
  },
  {
   "cell_type": "code",
   "execution_count": null,
   "metadata": {},
   "outputs": [],
   "source": [
    "#If Mr. Doe wishes, at the same time, to take into account Preference 4 and Preference 5, which list(s) would you recommend\n",
    "#to him ?\n",
    "prob = LpProblem(\"Optimise visit to Paris\", LpMaximize)\n",
    "result_list_visit1 = list_visit1(prob, False)\n",
    "result4 = set_pref4(prob, False)\n",
    "result_4_5 = set_pref5(prob)\n",
    "print(compare_lists(result_list_visit1, result_4_5))"
   ]
  },
  {
   "cell_type": "code",
   "execution_count": null,
   "metadata": {},
   "outputs": [],
   "source": [
    "#If Mr. Doe wishes, at the same time, to take into account Preference 1, Preference 2 and Preference 4, which list(s) would\n",
    "#you recommend to him ?\n",
    "prob = LpProblem(\"Optimise visit to Paris\", LpMaximize)\n",
    "result_list_visit1 = list_visit1(prob, False)\n",
    "result1 = set_pref1(prob, False)\n",
    "result_1_2 = set_pref2(prob, False)\n",
    "result_1_2_4 = set_pref4(prob)\n",
    "print(compare_lists(result_list_visit1, result_1_2_4))"
   ]
  },
  {
   "cell_type": "code",
   "execution_count": null,
   "metadata": {},
   "outputs": [],
   "source": [
    "#If Mr. Doe wishes, at the same time, to take into account Preference 2, Preference 3 and Preference 5, which list(s) would\n",
    "#you recommend to him ?\n",
    "prob = LpProblem(\"Optimise visit to Paris\", LpMaximize)\n",
    "result_list_visit1 = list_visit1(prob, False)\n",
    "result2 = set_pref2(prob, False)\n",
    "result_2_3 = set_pref3(prob, False)\n",
    "result_2_3_5 = set_pref5(prob)\n",
    "print(compare_lists(result_list_visit1, result_2_3_5))"
   ]
  },
  {
   "cell_type": "code",
   "execution_count": null,
   "metadata": {},
   "outputs": [],
   "source": [
    "#If Mr. Doe wishes, at the same time, to take into account Preference 2, Preference 3, Preference 4 and Preference 5, which\n",
    "#list(s) would you recommend to him ?\n",
    "prob = LpProblem(\"Optimise visit to Paris\", LpMaximize)\n",
    "result_list_visit1 = list_visit1(prob, False)\n",
    "result2 = set_pref2(prob, False)\n",
    "result_2_3 = set_pref3(prob, False)\n",
    "result_2_3_4 = set_pref4(prob, False)\n",
    "result_2_3_4_5 = set_pref5(prob)\n",
    "print(compare_lists(result_list_visit1, result_2_3_4_5))"
   ]
  },
  {
   "cell_type": "code",
   "execution_count": null,
   "metadata": {},
   "outputs": [],
   "source": [
    "#If Mr. Doe wishes, at the same time, to take into account Preference 1, Preference 2, Preference 4 and Preference 5, which\n",
    "#list(s) would you recommend to him ?\n",
    "prob = LpProblem(\"Optimise visit to Paris\", LpMaximize)\n",
    "result_list_visit1 = list_visit1(prob, False)\n",
    "result1 = set_pref1(prob, False)\n",
    "result_1_2 = set_pref2(prob, False)\n",
    "result_1_2_4 = set_pref4(prob, False)\n",
    "result_1_2_4_5 = set_pref5(prob)\n",
    "print(compare_lists(result_list_visit1, result_1_2_4_5))"
   ]
  },
  {
   "cell_type": "code",
   "execution_count": null,
   "metadata": {},
   "outputs": [],
   "source": [
    "#If Mr. Doe wishes, at the same time, to take into account Preference 1, Preference 2, Preference 3, Preference 4 and\n",
    "#Preference 5, which list(s) would you recommend to him ?\n",
    "prob = LpProblem(\"Optimise visit to Paris\", LpMaximize)\n",
    "result_list_visit1 = list_visit1(prob, False)\n",
    "result1 = set_pref1(prob, False)\n",
    "result_1_2 = set_pref2(prob, False)\n",
    "result_1_2_3 = set_pref3(prob, False)\n",
    "result_1_2_3_4 = set_pref4(prob, False)\n",
    "result_1_2_3_4_5 = set_pref5(prob)\n",
    "print(compare_lists(result_list_visit1, result_1_2_3_4_5))"
   ]
  },
  {
   "cell_type": "code",
   "execution_count": null,
   "metadata": {},
   "outputs": [],
   "source": [
    "#Is the solution ListVisit1 different to these solutions founded above (with the combination of preferences) ?\n",
    "print(\"All the solutions with the above preferences are different to ListVisit1\")"
   ]
  },
  {
   "cell_type": "code",
   "execution_count": null,
   "metadata": {},
   "outputs": [],
   "source": [
    "#Find rankings\n",
    "import scipy.stats as stats\n",
    "tau, p_value = stats.kendalltau(price, time)\n",
    "print(\"Kendall Correlation for (price, time): \", tau)\n",
    "tau, p_value = stats.kendalltau(price, appreciation)\n",
    "print(\"Kendall Correlation for (price, ratings): \", tau)\n",
    "tau, p_value = stats.kendalltau(appreciation, time)\n",
    "print(\"Kendall Correlation for (ratings, time): \", tau)"
   ]
  },
  {
   "cell_type": "code",
   "execution_count": null,
   "metadata": {},
   "outputs": [],
   "source": [
    "rho, pval = stats.spearmanr(price, time)\n",
    "print(\"Spearman Correlation for (price, time): \", rho)\n",
    "rho, pval = stats.spearmanr(price, appreciation)\n",
    "print(\"Spearman Correlation for (price, ratings): \", rho)\n",
    "rho, pval = stats.spearmanr(appreciation, time)\n",
    "print(\"Spearman Correlation for (ratings, time): \", rho)"
   ]
  },
  {
   "cell_type": "code",
   "execution_count": null,
   "metadata": {},
   "outputs": [],
   "source": [
    "print(\"The rankings are different if we sort by all 3 quantities. However, Time and Price have some significant correlation, or statistical dependence but other quantities seem independent\")"
   ]
  }
 ],
 "metadata": {
  "kernelspec": {
   "display_name": "Python 3",
   "language": "python",
   "name": "python3"
  },
  "language_info": {
   "codemirror_mode": {
    "name": "ipython",
    "version": 3
   },
   "file_extension": ".py",
   "mimetype": "text/x-python",
   "name": "python",
   "nbconvert_exporter": "python",
   "pygments_lexer": "ipython3",
   "version": "3.7.5"
  }
 },
 "nbformat": 4,
 "nbformat_minor": 2
}
