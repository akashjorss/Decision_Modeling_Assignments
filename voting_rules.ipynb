{
 "cells": [
  {
   "cell_type": "code",
   "execution_count": 288,
   "metadata": {},
   "outputs": [],
   "source": [
    "import pandas as pd\n",
    "import numpy as np\n",
    "import scipy.stats as ss\n",
    "import networkx as nx\n",
    "import matplotlib.pyplot as plt"
   ]
  },
  {
   "cell_type": "code",
   "execution_count": 289,
   "metadata": {},
   "outputs": [],
   "source": [
    "def majority_rule(value_1, value_2, df):\n",
    "    values = np.zeros(2)\n",
    "    for i in range(len(df)):\n",
    "        row = df.loc[i, :].values\n",
    "        num_votes = row[0]\n",
    "        i_1 = np.where(row == value_1)\n",
    "        i_2 = np.where(row == value_2)\n",
    "        if i_1 < i_2:\n",
    "            #value_1 is prefered to value_2\n",
    "            values[0]+= num_votes\n",
    "        else:\n",
    "            #value_2 is prefered to value_1\n",
    "            values[1]+= num_votes\n",
    "\n",
    "    if values[0] > values[1]:\n",
    "        return value_1\n",
    "    else:\n",
    "        return value_2"
   ]
  },
  {
   "cell_type": "code",
   "execution_count": 290,
   "metadata": {},
   "outputs": [],
   "source": [
    "def plurality(df):\n",
    "    \n",
    "    #look at only the data of preference 1\n",
    "    pref_1 = df[df.columns[1]]\n",
    "    num_votes = df[df.columns[0]]\n",
    "    result = []\n",
    "    \n",
    "    my_dict = dict() #this dictionary holds {candidates: # votes}\n",
    "    for i in range(len(pref_1)):\n",
    "        if pref_1[i] in my_dict:\n",
    "            my_dict[pref_1[i]] += num_votes[i]\n",
    "        else:\n",
    "            my_dict[pref_1[i]] = num_votes[i]\n",
    "    \n",
    "    return max(my_dict, key=my_dict.get)"
   ]
  },
  {
   "cell_type": "code",
   "execution_count": 291,
   "metadata": {},
   "outputs": [],
   "source": [
    "def plurality_runoff(df):\n",
    "    \n",
    "    #look at only the data of preference 1\n",
    "    pref_1 = df[df.columns[1]]\n",
    "    num_votes = df[df.columns[0]]\n",
    "    result = []\n",
    "    \n",
    "    my_dict = dict() #this dictionary holds {candidates: # votes}\n",
    "    for i in range(len(pref_1)):\n",
    "        if pref_1[i] in my_dict:\n",
    "            my_dict[pref_1[i]] += num_votes[i]\n",
    "        else:\n",
    "            my_dict[pref_1[i]] = num_votes[i]\n",
    "    \n",
    "    first = max(my_dict, key=my_dict.get)\n",
    "    #check if its > 50 %\n",
    "    if (my_dict[first]/np.sum(num_votes)) > 0.5:\n",
    "        return first\n",
    "    else:        \n",
    "        my_dict.pop(first)\n",
    "        second = max(my_dict, key=my_dict.get)\n",
    "        print(\"Pluraty run off: After the first round, following candidates remain\")\n",
    "        print(\"First: \", first)\n",
    "        print(\"Second:\", second)\n",
    "        \n",
    "        return majority_rule(first, second, df)"
   ]
  },
  {
   "cell_type": "code",
   "execution_count": 292,
   "metadata": {},
   "outputs": [],
   "source": [
    "def topological_sorting(matrix):\n",
    "    \"\"\"This is a helper function to help condorcet voting\"\"\"\n",
    "    rows = matrix.shape[0]\n",
    "    cols = matrix.shape[1]\n",
    "    #find the number of in-degrees for each vertex (the sum of elements per column)\n",
    "    in_degrees = [0] * cols\n",
    "    for i in range(rows):\n",
    "        for j in range(cols):\n",
    "            in_degrees[j]+=matrix[i][j]\n",
    "    #number of already visited nodes\n",
    "    visited_nodes=0\n",
    "    #queue of the visited nodes\n",
    "    queue = []\n",
    "    #queue for the output nodes\n",
    "    output_queue = []\n",
    "    #add the nodes with in-degree 0 to the queue\n",
    "    for i in range(cols):\n",
    "        if in_degrees[i]==0:\n",
    "            queue.append(i)\n",
    "    #for each element visited Increment count of visited nodes by 1. Then decrease in-degree by 1 for all its neighboring nodes.\n",
    "    while queue!=[]:\n",
    "        element_being_visited=queue.pop(0)\n",
    "        output_queue.append(element_being_visited)\n",
    "        visited_nodes+=1\n",
    "        for j in range(cols):\n",
    "            if matrix[element_being_visited][j]==1:\n",
    "                in_degrees[j]-=1\n",
    "    # If the in-degree of a neighboring nodes is reduced to zero, then add it to the queue\n",
    "                if in_degrees[j]==0:\n",
    "                    queue.append(j)\n",
    "    #If count of visited nodes is not equal to the number of nodes in the graph then the topological sort is not possible \n",
    "    #for the given graph.\n",
    "    if visited_nodes!=cols:\n",
    "        #print(\"Topological ordering isn't possible for this graph\")\n",
    "        return None\n",
    "    else: \n",
    "        #print(\"The topological sorting for the following relation would be: \"))\n",
    "        return output_queue"
   ]
  },
  {
   "cell_type": "code",
   "execution_count": 293,
   "metadata": {},
   "outputs": [],
   "source": [
    "#Vizualize the matrix as a directed graph\n",
    "def show_graph_with_labels(adjacency_matrix):\n",
    "    \"\"\"Helper function to visualize graph\"\"\"\n",
    "    rows, cols = np.where(adjacency_matrix == 1)\n",
    "    edges = zip(rows.tolist(), cols.tolist())\n",
    "    gr = nx.DiGraph()\n",
    "    gr.add_edges_from(edges)\n",
    "    nx.draw(gr, node_size=1000, with_labels=True)\n",
    "    plt.show()\n"
   ]
  },
  {
   "cell_type": "code",
   "execution_count": 294,
   "metadata": {},
   "outputs": [],
   "source": [
    "def condorcet_voting(df):\n",
    "    \"\"\"returns the winner by condorcet voting rule\n",
    "    can be done by topological sort\"\"\"\n",
    "\n",
    "    # find the unique values in df\n",
    "    values = []\n",
    "    for col in df.columns[1:]:\n",
    "        vals = np.unique(df[col].values)\n",
    "        values = np.append(values, vals)\n",
    "    distinct_values = np.unique(values)\n",
    "    \n",
    "    preference_matrix = np.zeros([len(distinct_values), len(distinct_values)])\n",
    "    # create a preference matrix\n",
    "    for i in range(len(distinct_values)):\n",
    "        for j in range(i, len(distinct_values)):\n",
    "            pref = majority_rule(distinct_values[i], distinct_values[j], df)\n",
    "            if i!=j:\n",
    "                if pref == distinct_values[i]:\n",
    "                    preference_matrix[i][j] = 1\n",
    "                else:\n",
    "                    preference_matrix[j][i] = 1\n",
    "    \n",
    "    print(\"Preference Matrix:\")\n",
    "    print(preference_matrix)\n",
    "    show_graph_with_labels(preference_matrix)\n",
    "    top_result = topological_sorting(preference_matrix)\n",
    "    if top_result == None:\n",
    "        return None\n",
    "    return distinct_values[top_result[0]]"
   ]
  },
  {
   "cell_type": "code",
   "execution_count": 295,
   "metadata": {},
   "outputs": [],
   "source": [
    "def borda_voting(df):\n",
    "    my_dict = dict() #this dictionary holds {candidates: # votes}\n",
    "    for i in range(len(df)):\n",
    "        row = df.loc[i, :].values\n",
    "        num_votes = row[0]\n",
    "        for j in range(1,len(row)):\n",
    "            if row[j] in my_dict:\n",
    "                my_dict[row[j]] += j*num_votes\n",
    "            else:\n",
    "                my_dict[row[j]] = j*num_votes\n",
    "        \n",
    "    #return the key which has minimum value\n",
    "    print(\"The borda score is \", my_dict)\n",
    "    return min(my_dict, key=my_dict.get)\n",
    "        "
   ]
  },
  {
   "cell_type": "code",
   "execution_count": 296,
   "metadata": {},
   "outputs": [
    {
     "name": "stdout",
     "output_type": "stream",
     "text": [
      "   num_votes pref_1 pref_2 pref_3 pref_4\n",
      "0          5      a      b      c      d\n",
      "1          4      a      c      b      d\n",
      "2          2      d      b      a      c\n",
      "3          6      d      b      c      a\n",
      "4          8      c      b      a      d\n",
      "5          2      d      c      b      a\n"
     ]
    }
   ],
   "source": [
    "#read the test data\n",
    "df = pd.DataFrame([[5, 'a', 'b', 'c', 'd'],\n",
    " [4, 'a', 'c', 'b', 'd'],\n",
    " [2, 'd', 'b', 'a', 'c'],\n",
    " [6, 'd', 'b', 'c', 'a'],\n",
    " [8, 'c', 'b', 'a', 'd'],\n",
    " [2, 'd', 'c', 'b', 'a']], columns=['num_votes', 'pref_1', 'pref_2', 'pref_3', 'pref_4'])\n",
    "print(df)"
   ]
  },
  {
   "cell_type": "code",
   "execution_count": 306,
   "metadata": {},
   "outputs": [
    {
     "name": "stdout",
     "output_type": "stream",
     "text": [
      "Winner by plurality:  d\n",
      "\n",
      "Another Example\n",
      "     0  1  2  3\n",
      "0  10  a  b  c\n",
      "1   6  b  c  a\n",
      "2   5  c  b  a\n",
      "Winner by plurality:  a\n"
     ]
    }
   ],
   "source": [
    "print(\"Winner by plurality: \", plurality(df))\n",
    "\n",
    "_df = pd.DataFrame([[10, 'a', 'b', 'c'], [6, 'b', 'c', 'a'], [5, 'c', 'b', 'a']])\n",
    "print(\"\\nAnother Example\\n\", _df)\n",
    "print(\"Winner by plurality: \", plurality(_df))"
   ]
  },
  {
   "cell_type": "code",
   "execution_count": 307,
   "metadata": {},
   "outputs": [
    {
     "name": "stdout",
     "output_type": "stream",
     "text": [
      "Pluraty run off: After the first round, following candidates remain\n",
      "First:  d\n",
      "Second: a\n",
      "Winner by plurality run off:  a\n",
      "\n",
      "Another Example\n",
      "     0  1  2  3\n",
      "0  10  a  b  c\n",
      "1   6  b  c  a\n",
      "2   5  c  b  a\n",
      "Pluraty run off: After the first round, following candidates remain\n",
      "First:  a\n",
      "Second: b\n",
      "Winner by plurality run off:  b\n"
     ]
    }
   ],
   "source": [
    "print(\"Winner by plurality run off: \", plurality_runoff(df))\n",
    "_df = pd.DataFrame([[10, 'a', 'b', 'c'], [6, 'b', 'c', 'a'], [5, 'c', 'b', 'a']])\n",
    "print(\"\\nAnother Example\\n\", _df)\n",
    "print(\"Winner by plurality run off: \", plurality_runoff(_df))"
   ]
  },
  {
   "cell_type": "code",
   "execution_count": 309,
   "metadata": {},
   "outputs": [
    {
     "name": "stdout",
     "output_type": "stream",
     "text": [
      "Preference Matrix:\n",
      "[[0. 0. 0. 1.]\n",
      " [1. 0. 0. 1.]\n",
      " [1. 1. 0. 1.]\n",
      " [0. 0. 0. 0.]]\n"
     ]
    },
    {
     "data": {
      "image/png": "[encoded data removed]",
      "text/plain": [
       "<Figure size 432x288 with 1 Axes>"
      ]
     },
     "metadata": {},
     "output_type": "display_data"
    },
    {
     "name": "stdout",
     "output_type": "stream",
     "text": [
      "Winner by Condorcet:  c\n",
      "\n",
      "Another Example\n",
      "     0  1  2  3\n",
      "0  10  a  b  c\n",
      "1   6  b  c  a\n",
      "2   5  c  b  a\n",
      "Preference Matrix:\n",
      "[[0. 0. 0.]\n",
      " [1. 0. 1.]\n",
      " [1. 0. 0.]]\n"
     ]
    },
    {
     "data": {
      "image/png": "[encoded data removed]",
      "text/plain": [
       "<Figure size 432x288 with 1 Axes>"
      ]
     },
     "metadata": {},
     "output_type": "display_data"
    },
    {
     "name": "stdout",
     "output_type": "stream",
     "text": [
      "Winner by plurality run off:  b\n",
      "\n",
      "Example where condorcet shouldn't work:\n",
      "Preference Matrix:\n",
      "[[0. 1. 0.]\n",
      " [0. 0. 1.]\n",
      " [1. 0. 0.]]\n"
     ]
    },
    {
     "data": {
      "image/png": "[encoded data removed]",
      "text/plain": [
       "<Figure size 432x288 with 1 Axes>"
      ]
     },
     "metadata": {},
     "output_type": "display_data"
    },
    {
     "name": "stdout",
     "output_type": "stream",
     "text": [
      "There is no condorcet winner\n"
     ]
    }
   ],
   "source": [
    "result = condorcet_voting(df)\n",
    "if result != None:\n",
    "    print(\"Winner by Condorcet: \", result)\n",
    "else:\n",
    "    print(\"There is no condorcet winner\")\n",
    "\n",
    "_df = pd.DataFrame([[10, 'a', 'b', 'c'], [6, 'b', 'c', 'a'], [5, 'c', 'b', 'a']])\n",
    "print(\"\\nAnother Example\\n\", _df)\n",
    "print(\"Winner by Condorcet: \", condorcet_voting(_df))\n",
    "\n",
    "print(\"\\nExample where condorcet shouldn't work:\")\n",
    "\n",
    "_df = pd.DataFrame([[1, 'a', 'b', 'c'], \n",
    "                   [1, 'b', 'c', 'a'],\n",
    "                   [1, 'c', 'a', 'b']])\n",
    "if condorcet_voting(_df) == None:\n",
    "    print(\"There is no condorcet winner\")\n",
    "    \n"
   ]
  },
  {
   "cell_type": "code",
   "execution_count": 310,
   "metadata": {},
   "outputs": [
    {
     "name": "stdout",
     "output_type": "stream",
     "text": [
      "The borda score is  {'a': 71, 'b': 60, 'c': 61, 'd': 78}\n",
      "Winner by Bording voting rule:  b\n",
      "\n",
      "Another example for Borda\n",
      "   0  1  2  3  4\n",
      "0  2  b  a  c  d\n",
      "1  1  a  c  d  b\n",
      "The borda score is  {'b': 6, 'a': 5, 'c': 8, 'd': 11}\n",
      "Winner by Bording voting rule:  a\n",
      "\n",
      "Another Example\n",
      "     0  1  2  3\n",
      "0  10  a  b  c\n",
      "1   6  b  c  a\n",
      "2   5  c  b  a\n",
      "Pluraty run off: After the first round, following candidates remain\n",
      "First:  a\n",
      "Second: b\n",
      "Winner by plurality run off:  b\n"
     ]
    }
   ],
   "source": [
    "print(\"Winner by Bording voting rule: \", borda_voting(df))\n",
    "\n",
    "print(\"\\nAnother example for Borda\")\n",
    "\n",
    "_df = pd.DataFrame([[2, 'b', 'a', 'c', 'd'],\n",
    "            [1, 'a', 'c', 'd', 'b']])\n",
    "print(_df)\n",
    "print(\"Winner by Bording voting rule: \", borda_voting(_df))"
   ]
  },
  {
   "cell_type": "code",
   "execution_count": null,
   "metadata": {},
   "outputs": [],
   "source": []
  }
 ],
 "metadata": {
  "kernelspec": {
   "display_name": "Python 3",
   "language": "python",
   "name": "python3"
  },
  "language_info": {
   "codemirror_mode": {
    "name": "ipython",
    "version": 3
   },
   "file_extension": ".py",
   "mimetype": "text/x-python",
   "name": "python",
   "nbconvert_exporter": "python",
   "pygments_lexer": "ipython3",
   "version": "3.7.5"
  }
 },
 "nbformat": 4,
 "nbformat_minor": 2
}
